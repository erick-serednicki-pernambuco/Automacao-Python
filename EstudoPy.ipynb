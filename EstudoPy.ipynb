{
  "nbformat": 4,
  "nbformat_minor": 0,
  "metadata": {
    "colab": {
      "name": "EstudoPy.ipynb",
      "provenance": [],
      "collapsed_sections": [],
      "include_colab_link": true
    },
    "kernelspec": {
      "name": "python3",
      "display_name": "Python 3"
    },
    "language_info": {
      "name": "python"
    }
  },
  "cells": [
    {
      "cell_type": "markdown",
      "metadata": {
        "id": "view-in-github",
        "colab_type": "text"
      },
      "source": [
        "<a href=\"https://colab.research.google.com/github/erick-serednicki-pernambuco/Automacao-Python/blob/main/EstudoPy.ipynb\" target=\"_parent\"><img src=\"https://colab.research.google.com/assets/colab-badge.svg\" alt=\"Open In Colab\"/></a>"
      ]
    },
    {
      "cell_type": "code",
      "metadata": {
        "colab": {
          "base_uri": "https://localhost:8080/"
        },
        "id": "awExUIwkM6hN",
        "outputId": "c8e1fd80-0d62-4c45-df2e-d99f84b96517"
      },
      "source": [
        "def odd_numbers(n):\n",
        "\treturn [x for x in range(1,n+1) if x%2 ==1 ]\n",
        "\n",
        "print(odd_numbers(5))  # Should print [1, 3, 5]\n",
        "print(odd_numbers(10)) # Should print [1, 3, 5, 7, 9]\n",
        "print(odd_numbers(11)) # Should print [1, 3, 5, 7, 9, 11]\n",
        "print(odd_numbers(1))  # Should print [1]\n",
        "print(odd_numbers(-1)) # Should print []\n",
        "list = odd_numbers(10)\n",
        "list2 = [34,35]\n",
        "list2.extend(list) // add list to end of list2\n",
        "print(list2)"
      ],
      "execution_count": null,
      "outputs": [
        {
          "output_type": "stream",
          "name": "stdout",
          "text": [
            "[1, 3, 5]\n",
            "[1, 3, 5, 7, 9]\n",
            "[1, 3, 5, 7, 9, 11]\n",
            "[1]\n",
            "[]\n",
            "[34, 35, 1, 3, 5, 7, 9]\n"
          ]
        }
      ]
    },
    {
      "cell_type": "code",
      "metadata": {
        "id": "hfURpZb7CY8L"
      },
      "source": [
        ""
      ],
      "execution_count": null,
      "outputs": []
    },
    {
      "cell_type": "code",
      "metadata": {
        "id": "gTI_4ZJnN0jd"
      },
      "source": [
        "%reset -f\n",
        "filenames = [\"program.c\", \"stdio.hpp\", \"sample.hpp\", \"a.out\", \"math.hpp\", \"hpp.out\"]\n",
        "# Generate newfilenames as a list containing the new filenames\n",
        "# using as many lines of code as your chosen method requires.\n",
        "newfilenames = [fil.replace('.hpp','.h') for fil in filenames]\n",
        "\n",
        "\n",
        "print(newfilenames) \n",
        "# Should be [\"program.c\", \"stdio.h\", \"sample.h\", \"a.out\", \"math.h\", \"hpp.out\"]"
      ],
      "execution_count": null,
      "outputs": []
    },
    {
      "cell_type": "code",
      "metadata": {
        "colab": {
          "base_uri": "https://localhost:8080/"
        },
        "id": "K2am-WUuRuy8",
        "outputId": "e246071f-0bbe-430d-988b-990cde760dda"
      },
      "source": [
        "%reset -f\n",
        "#Pergunta 2\n",
        "# Let's create a function that turns text into pig latin: a simple text transformation that modifies each word\n",
        "# moving the first character to the end and appending \"ay\" to the end. For example, python ends up as ythonpay.\n",
        "\n",
        "def pig_latin(text):\n",
        "  words = text.split()\n",
        "  pigged_text = []\n",
        "\n",
        "  for word in words:\n",
        "    word = word[1:] + word[0] + 'ay'\n",
        "    pigged_text.append(word)\n",
        "\n",
        "  return ' '.join(pigged_text)\n",
        "  return \" \".join(new_text)\n",
        "\t\t\n",
        "print(pig_latin(\"hello how are you\")) # Should be \"ellohay owhay reaay ouyay\"\n",
        "print(pig_latin(\"programming in python is fun\")) # Should be \"rogrammingpay niay ythonpay siay unfay\""
      ],
      "execution_count": null,
      "outputs": [
        {
          "output_type": "stream",
          "name": "stdout",
          "text": [
            "ellohay owhay reaay ouyay\n",
            "rogrammingpay niay ythonpay siay unfay\n"
          ]
        }
      ]
    },
    {
      "cell_type": "code",
      "metadata": {
        "colab": {
          "base_uri": "https://localhost:8080/"
        },
        "id": "G3k6tCQ3zGae",
        "outputId": "0e74befd-8d81-40b3-d73e-b4aaa91094c0"
      },
      "source": [
        " %reset -f\n",
        " # The group_list function accepts a group name and a list of members, and returns a string with the format: group_name: member1, member2, \n",
        " # … For example, group_list(\"g\", [\"a\",\"b\",\"c\"]) returns \"g: a, b, c\". Fill in the gaps in this function to do that.\n",
        "def group_list(group, users): \n",
        "  members = (\"{}: {}\".format(group, ','.join(users)))\n",
        "  return members\n",
        "\n",
        "print(group_list(\"Marketing\", [\"Mike\", \"Karen\", \"Jake\", \"Tasha\"])) # Should be \"Marketing: Mike, Karen, Jake, Tasha\"\n",
        "print(group_list(\"Engineering\", [\"Kim\", \"Jay\", \"Tom\"])) # Should be \"Engineering: Kim, Jay, Tom\"\n",
        "print(group_list(\"Users\", \"\")) # Should be \"Users:\""
      ],
      "execution_count": null,
      "outputs": [
        {
          "output_type": "stream",
          "name": "stdout",
          "text": [
            "Marketing: Mike,Karen,Jake,Tasha\n",
            "Engineering: Kim,Jay,Tom\n",
            "Users: \n"
          ]
        }
      ]
    },
    {
      "cell_type": "code",
      "metadata": {
        "id": "31Lvvcn88JBF"
      },
      "source": [
        "%reset -f\n",
        "\n",
        "#The guest_list function reads in a list of tuples with the name, age, and profession of each party guest, \n",
        "#and prints the sentence \"Guest is X years old and works as __.\" \n",
        "#for each one. For example, guest_list(('Ken', 30, \"Chef\"), (\"Pat\", 35, 'Lawyer'), ('Amanda', 25, \"Engineer\"))\n",
        "#should print out: Ken is 30 years old and works as Chef. Pat is 35 years old and works as Lawyer.\n",
        "#Amanda is 25 years old and works as Engineer.\n",
        "#Fill in the gaps in this function to do that. \n",
        "\n",
        "\n",
        "def guest_list(guests):\n",
        "\tfor name, age, job in guests:\n",
        "\t\tprint(\"{} is {} years old and works as {}\".format(name, age, job))\n",
        "\n",
        "guest_list([('Ken', 30, \"Chef\"), (\"Pat\", 35, 'Lawyer'), ('Amanda', 25, \"Engineer\")])\n",
        "\n",
        "#Click Run to submit code\n",
        "\"\"\"\n",
        "Output should match:\n",
        "Ken is 30 years old and works as Chef\n",
        "Pat is 35 years old and works as Lawyer\n",
        "Amanda is 25 years old and works as Engineer\n",
        "\"\"\""
      ],
      "execution_count": null,
      "outputs": []
    },
    {
      "cell_type": "code",
      "metadata": {
        "id": "7hh9E9yL7dn-"
      },
      "source": [
        "%reset -f\n",
        "#dictionary \n",
        "toc = {\"Introduction\":1, \"Chapter 1\":4, \"Chapter 2\":11, \"Chapter 3\":25, \"Chapter 4\":30}\n",
        "toc[\"Epilogue\"] = 39 # Epilogue starts on page 39\n",
        "toc[\"Chapter 3\"] = 24 # Chapter 3 now starts on page 24\n",
        "print(toc) # What are the current contents of the dictionary?\n",
        "print(\"Chapter 5\" in toc) # Is there a Chapter 5?"
      ],
      "execution_count": null,
      "outputs": []
    },
    {
      "cell_type": "code",
      "metadata": {
        "id": "so1at4o2T9V0"
      },
      "source": [
        "%reset -f\n",
        "#Complete the code to iterate through the keys and values of the cool_beasts dictionary. \n",
        "#Remember that the items method returns a tuple of key, value for each element in the dictionary.\n",
        "\n",
        "cool_beasts = {\"octopuses\":\"tentacles\", \"dolphins\":\"fins\", \"rhinos\":\"horns\"}\n",
        "for beast,arm in cool_beasts.items():\n",
        "    print(\"{} have {}\".format(beast,arm))\n",
        "    "
      ],
      "execution_count": null,
      "outputs": []
    },
    {
      "cell_type": "code",
      "metadata": {
        "colab": {
          "base_uri": "https://localhost:8080/"
        },
        "id": "zV3Ri-tP6n4T",
        "outputId": "8b3bbfcf-ace9-4630-e047-b0dbb4806067"
      },
      "source": [
        "%reset -f\n",
        "def count_letter(text):\n",
        "    result = {}\n",
        "    for letter in text :\n",
        "      if letter not in result :\n",
        "        result[letter] = 0\n",
        "      result[letter] += 1\n",
        "    print(result.keys())\n",
        "    print(result.values())\n",
        "    return result      \n",
        "\n",
        "count_letter(\"aaaaaaaaa\")\n",
        "count_letter(\"tatutatuta\")"
      ],
      "execution_count": null,
      "outputs": [
        {
          "output_type": "stream",
          "name": "stdout",
          "text": [
            "dict_keys(['a'])\n",
            "dict_values([9])\n",
            "dict_keys(['t', 'a', 'u'])\n",
            "dict_values([5, 3, 2])\n"
          ]
        },
        {
          "output_type": "execute_result",
          "data": {
            "text/plain": [
              "{'a': 3, 't': 5, 'u': 2}"
            ]
          },
          "metadata": {},
          "execution_count": 8
        }
      ]
    },
    {
      "cell_type": "code",
      "metadata": {
        "id": "jYqs4b-_B14T"
      },
      "source": [
        "%reset -f\n"
      ],
      "execution_count": null,
      "outputs": []
    },
    {
      "cell_type": "code",
      "metadata": {
        "id": "wxXP_LEx_0fr"
      },
      "source": [
        ""
      ],
      "execution_count": null,
      "outputs": []
    }
  ]
}